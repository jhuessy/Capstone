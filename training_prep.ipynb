{
 "cells": [
  {
   "cell_type": "code",
   "execution_count": 23,
   "metadata": {},
   "outputs": [],
   "source": [
    "from sklearn.feature_extraction.text import  TfidfVectorizer\n",
    "from sklearn.linear_model import LogisticRegression\n",
    "from sklearn.model_selection import cross_val_score, train_test_split\n",
    "import pandas as pd\n",
    "import re\n",
    "from sklearn.metrics import log_loss\n",
    "import spacy\n",
    "import numpy as np"
   ]
  },
  {
   "cell_type": "code",
   "execution_count": 24,
   "metadata": {},
   "outputs": [],
   "source": [
    "art_df = pd.read_csv('./articles_temp.csv')\n",
    "ratings= pd.read_csv('./ratings_temp.csv')\n",
    "art_df.dropna(inplace=True)"
   ]
  },
  {
   "cell_type": "code",
   "execution_count": 25,
   "metadata": {},
   "outputs": [],
   "source": [
    "ratings_clean = list(ratings['article'])\n",
    "articles_clean = list(art_df['content'])\n",
    "\n",
    "ratings_clean = [re.sub(\"\\d+\", \"\", t) for t in ratings_clean]\n",
    "articles_clean = [re.sub(\"\\d+\", \"\", t) for t in articles_clean]\n",
    "ratings_clean = [re.sub(\"\\[.*\\]\", \"\", t) for t in ratings_clean]\n",
    "articles_clean = [re.sub(\"\\[.*\\]\", \"\", t) for t in articles_clean]\n",
    "ratings_clean = [re.sub(\"\\\\\\\\.\", \"\", t) for t in ratings_clean]\n",
    "articles_clean = [re.sub(\"\\\\\\\\.\", \"\", t) for t in articles_clean]\n",
    "\n"
   ]
  },
  {
   "cell_type": "code",
   "execution_count": 26,
   "metadata": {},
   "outputs": [],
   "source": [
    "nlp = spacy.load('en_core_web_sm')\n",
    "nlp_rating = [[word.text for word in nlp(x) if word.pos_ in ['NOUN','VERB','ADJ']] for x in ratings_clean]\n",
    "nlp_articles = [[word.text for word in nlp(x) if word.pos_ in ['NOUN','VERB','ADJ']] for x in articles_clean]"
   ]
  },
  {
   "cell_type": "code",
   "execution_count": 27,
   "metadata": {},
   "outputs": [],
   "source": [
    "join_nlp_articles = [\" \".join(t) for t in nlp_articles]"
   ]
  },
  {
   "cell_type": "code",
   "execution_count": 28,
   "metadata": {},
   "outputs": [],
   "source": [
    "join_nlp_rating = [\" \".join(t) for t in nlp_rating]"
   ]
  },
  {
   "cell_type": "code",
   "execution_count": 29,
   "metadata": {},
   "outputs": [
    {
     "data": {
      "text/plain": [
       "LogisticRegression(C=1.0, class_weight=None, dual=False, fit_intercept=True,\n",
       "                   intercept_scaling=1, l1_ratio=None, max_iter=100,\n",
       "                   multi_class='warn', n_jobs=None, penalty='l2',\n",
       "                   random_state=None, solver='lbfgs', tol=0.0001, verbose=0,\n",
       "                   warm_start=False)"
      ]
     },
     "execution_count": 29,
     "metadata": {},
     "output_type": "execute_result"
    }
   ],
   "source": [
    "tfidf = TfidfVectorizer(stop_words='english')\n",
    "X = tfidf.fit_transform(join_nlp_rating)\n",
    "y = ratings['negative']\n",
    "lr = LogisticRegression(solver='lbfgs')\n",
    "lr.fit(X,y)"
   ]
  },
  {
   "cell_type": "code",
   "execution_count": 30,
   "metadata": {},
   "outputs": [],
   "source": [
    "X_test = tfidf.transform(join_nlp_articles)\n",
    "rating_pred = lr.predict(X_test)\n",
    "rating_lp = lr.predict_log_proba(X_test)"
   ]
  },
  {
   "cell_type": "code",
   "execution_count": 31,
   "metadata": {},
   "outputs": [],
   "source": [
    "coef = pd.DataFrame(lr.coef_).T\n",
    "coef.columns=['coefs']\n",
    "coef['features']=tfidf.get_feature_names()"
   ]
  },
  {
   "cell_type": "code",
   "execution_count": 32,
   "metadata": {},
   "outputs": [
    {
     "data": {
      "text/plain": [
       "0.8975265017667845"
      ]
     },
     "execution_count": 32,
     "metadata": {},
     "output_type": "execute_result"
    }
   ],
   "source": [
    "lr.score(X,y)"
   ]
  },
  {
   "cell_type": "code",
   "execution_count": 33,
   "metadata": {},
   "outputs": [
    {
     "data": {
      "text/plain": [
       "0.6931471805599453"
      ]
     },
     "execution_count": 33,
     "metadata": {},
     "output_type": "execute_result"
    }
   ],
   "source": [
    "log_loss([1,0]*2909,rating_lp)"
   ]
  },
  {
   "cell_type": "code",
   "execution_count": 34,
   "metadata": {},
   "outputs": [],
   "source": [
    "probs = pd.DataFrame(np.exp(rating_lp),columns=['notneg','neg'])"
   ]
  },
  {
   "cell_type": "code",
   "execution_count": 35,
   "metadata": {},
   "outputs": [],
   "source": [
    "probs['text'] = art_df['content']"
   ]
  },
  {
   "cell_type": "code",
   "execution_count": 37,
   "metadata": {},
   "outputs": [],
   "source": [
    "probs['cleantext']=join_nlp_articles"
   ]
  },
  {
   "cell_type": "code",
   "execution_count": 46,
   "metadata": {},
   "outputs": [
    {
     "data": {
      "text/plain": [
       "0.1    0.327794\n",
       "0.9    0.567066\n",
       "Name: neg, dtype: float64"
      ]
     },
     "execution_count": 46,
     "metadata": {},
     "output_type": "execute_result"
    }
   ],
   "source": [
    "probs['neg'].quantile([.1,.9])"
   ]
  },
  {
   "cell_type": "code",
   "execution_count": 47,
   "metadata": {},
   "outputs": [],
   "source": [
    "to_rating = probs[(probs['neg']>.567)|(probs['neg']<.328)]"
   ]
  },
  {
   "cell_type": "code",
   "execution_count": 58,
   "metadata": {},
   "outputs": [
    {
     "data": {
      "text/html": [
       "<div>\n",
       "<style scoped>\n",
       "    .dataframe tbody tr th:only-of-type {\n",
       "        vertical-align: middle;\n",
       "    }\n",
       "\n",
       "    .dataframe tbody tr th {\n",
       "        vertical-align: top;\n",
       "    }\n",
       "\n",
       "    .dataframe thead th {\n",
       "        text-align: right;\n",
       "    }\n",
       "</style>\n",
       "<table border=\"1\" class=\"dataframe\">\n",
       "  <thead>\n",
       "    <tr style=\"text-align: right;\">\n",
       "      <th></th>\n",
       "      <th>Unnamed: 0</th>\n",
       "      <th>id</th>\n",
       "      <th>article</th>\n",
       "      <th>rating</th>\n",
       "      <th>negative</th>\n",
       "      <th>cleantext</th>\n",
       "    </tr>\n",
       "  </thead>\n",
       "  <tbody>\n",
       "    <tr>\n",
       "      <th>0</th>\n",
       "      <td>0</td>\n",
       "      <td>10007</td>\n",
       "      <td>Treasury Secretary Steven Mnuchin said hes enc...</td>\n",
       "      <td>3.0</td>\n",
       "      <td>0</td>\n",
       "      <td>said s encouraging raise debt ceiling summer b...</td>\n",
       "    </tr>\n",
       "    <tr>\n",
       "      <th>1</th>\n",
       "      <td>1</td>\n",
       "      <td>10008</td>\n",
       "      <td>President Donald Trump attacked the media afte...</td>\n",
       "      <td>2.0</td>\n",
       "      <td>1</td>\n",
       "      <td>attacked media news reports showed attendees h...</td>\n",
       "    </tr>\n",
       "    <tr>\n",
       "      <th>2</th>\n",
       "      <td>2</td>\n",
       "      <td>10041</td>\n",
       "      <td>(Reuters) - Eighty-nine Democrats in the U.S. ...</td>\n",
       "      <td>2.0</td>\n",
       "      <td>1</td>\n",
       "      <td>late last week have said support starting impe...</td>\n",
       "    </tr>\n",
       "    <tr>\n",
       "      <th>3</th>\n",
       "      <td>3</td>\n",
       "      <td>10262</td>\n",
       "      <td>A bipartisan bill that would limit the increas...</td>\n",
       "      <td>3.0</td>\n",
       "      <td>0</td>\n",
       "      <td>bipartisan bill that would limit increase drug...</td>\n",
       "    </tr>\n",
       "    <tr>\n",
       "      <th>4</th>\n",
       "      <td>4</td>\n",
       "      <td>10304</td>\n",
       "      <td>Sen. John Cornyn, R-Texas, the number two Repu...</td>\n",
       "      <td>3.0</td>\n",
       "      <td>0</td>\n",
       "      <td>number speaks aide markup session vote new fed...</td>\n",
       "    </tr>\n",
       "  </tbody>\n",
       "</table>\n",
       "</div>"
      ],
      "text/plain": [
       "   Unnamed: 0     id                                            article  \\\n",
       "0           0  10007  Treasury Secretary Steven Mnuchin said hes enc...   \n",
       "1           1  10008  President Donald Trump attacked the media afte...   \n",
       "2           2  10041  (Reuters) - Eighty-nine Democrats in the U.S. ...   \n",
       "3           3  10262  A bipartisan bill that would limit the increas...   \n",
       "4           4  10304  Sen. John Cornyn, R-Texas, the number two Repu...   \n",
       "\n",
       "   rating  negative                                          cleantext  \n",
       "0     3.0         0  said s encouraging raise debt ceiling summer b...  \n",
       "1     2.0         1  attacked media news reports showed attendees h...  \n",
       "2     2.0         1  late last week have said support starting impe...  \n",
       "3     3.0         0  bipartisan bill that would limit increase drug...  \n",
       "4     3.0         0  number speaks aide markup session vote new fed...  "
      ]
     },
     "execution_count": 58,
     "metadata": {},
     "output_type": "execute_result"
    }
   ],
   "source": [
    "ratings.head()"
   ]
  },
  {
   "cell_type": "code",
   "execution_count": 55,
   "metadata": {},
   "outputs": [
    {
     "data": {
      "text/html": [
       "<div>\n",
       "<style scoped>\n",
       "    .dataframe tbody tr th:only-of-type {\n",
       "        vertical-align: middle;\n",
       "    }\n",
       "\n",
       "    .dataframe tbody tr th {\n",
       "        vertical-align: top;\n",
       "    }\n",
       "\n",
       "    .dataframe thead th {\n",
       "        text-align: right;\n",
       "    }\n",
       "</style>\n",
       "<table border=\"1\" class=\"dataframe\">\n",
       "  <thead>\n",
       "    <tr style=\"text-align: right;\">\n",
       "      <th></th>\n",
       "      <th>notneg</th>\n",
       "      <th>neg</th>\n",
       "      <th>text</th>\n",
       "      <th>cleantext</th>\n",
       "      <th>id</th>\n",
       "      <th>negative</th>\n",
       "    </tr>\n",
       "  </thead>\n",
       "  <tbody>\n",
       "    <tr>\n",
       "      <th>0</th>\n",
       "      <td>0.307652</td>\n",
       "      <td>0.692348</td>\n",
       "      <td>(Reuters) - Eighty-nine Democrats in the U.S. ...</td>\n",
       "      <td>late last week have said support starting impe...</td>\n",
       "      <td>0</td>\n",
       "      <td>1</td>\n",
       "    </tr>\n",
       "    <tr>\n",
       "      <th>1</th>\n",
       "      <td>0.307652</td>\n",
       "      <td>0.692348</td>\n",
       "      <td>(Reuters) - Eighty-nine Democrats in the U.S. ...</td>\n",
       "      <td>late last week have said support starting impe...</td>\n",
       "      <td>1</td>\n",
       "      <td>1</td>\n",
       "    </tr>\n",
       "    <tr>\n",
       "      <th>3</th>\n",
       "      <td>0.340919</td>\n",
       "      <td>0.659081</td>\n",
       "      <td>Donald Trump held another neo-fascist rally ye...</td>\n",
       "      <td>held neo fascist rally yesterday crowd chanted...</td>\n",
       "      <td>3</td>\n",
       "      <td>1</td>\n",
       "    </tr>\n",
       "    <tr>\n",
       "      <th>6</th>\n",
       "      <td>0.265563</td>\n",
       "      <td>0.734437</td>\n",
       "      <td>Michael D'Antonio is the author of the book \"N...</td>\n",
       "      <td>is author book co author opinions expressed co...</td>\n",
       "      <td>6</td>\n",
       "      <td>1</td>\n",
       "    </tr>\n",
       "    <tr>\n",
       "      <th>18</th>\n",
       "      <td>0.672913</td>\n",
       "      <td>0.327087</td>\n",
       "      <td>President Donald Trump speaks with reporters o...</td>\n",
       "      <td>speaks reporters departing Going Democratic co...</td>\n",
       "      <td>18</td>\n",
       "      <td>0</td>\n",
       "    </tr>\n",
       "  </tbody>\n",
       "</table>\n",
       "</div>"
      ],
      "text/plain": [
       "      notneg       neg                                               text  \\\n",
       "0   0.307652  0.692348  (Reuters) - Eighty-nine Democrats in the U.S. ...   \n",
       "1   0.307652  0.692348  (Reuters) - Eighty-nine Democrats in the U.S. ...   \n",
       "3   0.340919  0.659081  Donald Trump held another neo-fascist rally ye...   \n",
       "6   0.265563  0.734437  Michael D'Antonio is the author of the book \"N...   \n",
       "18  0.672913  0.327087  President Donald Trump speaks with reporters o...   \n",
       "\n",
       "                                            cleantext  id  negative  \n",
       "0   late last week have said support starting impe...   0         1  \n",
       "1   late last week have said support starting impe...   1         1  \n",
       "3   held neo fascist rally yesterday crowd chanted...   3         1  \n",
       "6   is author book co author opinions expressed co...   6         1  \n",
       "18  speaks reporters departing Going Democratic co...  18         0  "
      ]
     },
     "execution_count": 55,
     "metadata": {},
     "output_type": "execute_result"
    }
   ],
   "source": [
    "to_rating.head()"
   ]
  },
  {
   "cell_type": "code",
   "execution_count": 63,
   "metadata": {},
   "outputs": [
    {
     "name": "stderr",
     "output_type": "stream",
     "text": [
      "/Users/johanneshuessy/anaconda3/envs/dsi/lib/python3.7/site-packages/ipykernel_launcher.py:1: SettingWithCopyWarning: \n",
      "A value is trying to be set on a copy of a slice from a DataFrame.\n",
      "Try using .loc[row_indexer,col_indexer] = value instead\n",
      "\n",
      "See the caveats in the documentation: http://pandas.pydata.org/pandas-docs/stable/indexing.html#indexing-view-versus-copy\n",
      "  \"\"\"Entry point for launching an IPython kernel.\n"
     ]
    }
   ],
   "source": [
    "to_rating['id']=to_rating.index"
   ]
  },
  {
   "cell_type": "code",
   "execution_count": 57,
   "metadata": {},
   "outputs": [],
   "source": [
    "ratings['cleantext']=join_nlp_rating"
   ]
  },
  {
   "cell_type": "code",
   "execution_count": 54,
   "metadata": {},
   "outputs": [
    {
     "name": "stderr",
     "output_type": "stream",
     "text": [
      "/Users/johanneshuessy/anaconda3/envs/dsi/lib/python3.7/site-packages/ipykernel_launcher.py:1: SettingWithCopyWarning: \n",
      "A value is trying to be set on a copy of a slice from a DataFrame.\n",
      "Try using .loc[row_indexer,col_indexer] = value instead\n",
      "\n",
      "See the caveats in the documentation: http://pandas.pydata.org/pandas-docs/stable/indexing.html#indexing-view-versus-copy\n",
      "  \"\"\"Entry point for launching an IPython kernel.\n"
     ]
    }
   ],
   "source": [
    "to_rating['negative']=to_rating['neg'].apply(lambda x: 1 if x>.5 else 0)"
   ]
  },
  {
   "cell_type": "code",
   "execution_count": 67,
   "metadata": {},
   "outputs": [],
   "source": [
    "ratings_out = ratings[['id','article','cleantext','negative']].append(to_rating[['id','text','cleantext','negative']])"
   ]
  },
  {
   "cell_type": "code",
   "execution_count": 68,
   "metadata": {},
   "outputs": [],
   "source": [
    "ratings_out.to_csv('./ratings_out.csv')"
   ]
  },
  {
   "cell_type": "code",
   "execution_count": null,
   "metadata": {},
   "outputs": [],
   "source": []
  }
 ],
 "metadata": {
  "kernelspec": {
   "display_name": "Python [conda env:dsi]",
   "language": "python",
   "name": "conda-env-dsi-py"
  },
  "language_info": {
   "codemirror_mode": {
    "name": "ipython",
    "version": 3
   },
   "file_extension": ".py",
   "mimetype": "text/x-python",
   "name": "python",
   "nbconvert_exporter": "python",
   "pygments_lexer": "ipython3",
   "version": "3.7.3"
  }
 },
 "nbformat": 4,
 "nbformat_minor": 2
}
