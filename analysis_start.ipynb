{
 "cells": [
  {
   "cell_type": "markdown",
   "metadata": {},
   "source": [
    "columns: datetime, sentiment category, pols_mentioned, publication"
   ]
  },
  {
   "cell_type": "code",
   "execution_count": 102,
   "metadata": {},
   "outputs": [],
   "source": [
    "import pandas as pd\n",
    "\n",
    "from bokeh.plotting import figure, output_file, show\n",
    "from bokeh.models.widgets import DateRangeSlider,TextInput,Dropdown\n",
    "from bokeh.models.widgets.inputs import AutocompleteInput\n",
    "from bokeh.models import Panel, Tabs\n",
    "from bokeh.layouts import column\n",
    "\n",
    "import numpy as np\n",
    "\n",
    "import datetime"
   ]
  },
  {
   "cell_type": "code",
   "execution_count": 3,
   "metadata": {},
   "outputs": [
    {
     "data": {
      "text/plain": [
       "Timestamp('2016-07-29 09:39:25')"
      ]
     },
     "execution_count": 3,
     "metadata": {},
     "output_type": "execute_result"
    }
   ],
   "source": [
    "pd.to_datetime(f'2016-07-{np.random.randint(0,30)} {np.random.randint(0,12)}:{np.random.randint(0,59)}:{np.random.randint(0,59)}')"
   ]
  },
  {
   "cell_type": "code",
   "execution_count": 4,
   "metadata": {},
   "outputs": [],
   "source": [
    "pollist = ['Donald Trump', 'Mike Pence', 'Mike Pompeo', 'Steven Mnuchin',\n",
    "       'Mark T. Esper', 'William Barr', 'David Bernhardt', 'Sonny Perdue',\n",
    "       'Wilbur Ross', 'Patrick Pizzella',\n",
    "       'Carol Miller', 'Bryan Steil', 'Mark Pocan', 'Ron Kind', 'Gwen Moore',\n",
    "       'Jim Sensenbrenner', 'Glenn Grothman', 'Sean Duffy', 'Mike Gallagher',\n",
    "       'Liz Cheney']"
   ]
  },
  {
   "cell_type": "code",
   "execution_count": 5,
   "metadata": {},
   "outputs": [],
   "source": [
    "publist = ['Refinery29.com',\n",
    "'Motorauthority.com',\n",
    "'Sbnation.com',\n",
    "'Hrbartender.com',\n",
    "'Cincinnati.com',\n",
    "'Pjmedia.com',\n",
    "'Mediaite.com',\n",
    "'The Jerusalem Post',\n",
    "'Relevantmagazine.com',\n",
    "'Theregister.co.uk',\n",
    "'Fark.com',\n",
    "'Autoblog.com',\n",
    "'Tor.com',\n",
    "'Chicagotribune.com',\n",
    "'Memeorandum.com',\n",
    "'Denofgeek.com',\n",
    "'MTV News',\n",
    "'Businessoffashion.com']"
   ]
  },
  {
   "cell_type": "code",
   "execution_count": 6,
   "metadata": {},
   "outputs": [],
   "source": [
    "fake_list=[]\n",
    "for i in range(10_000):\n",
    "    fake_list.append(\n",
    "    {'date':pd.to_datetime(f'2016-07-{np.random.randint(1,30)} {np.random.randint(1,12)}:{np.random.randint(0,59)}:{np.random.randint(0,59)}'),\n",
    "    'pol':np.random.choice(pollist),\n",
    "     'pub':np.random.choice(publist),\n",
    "     'sentiment':np.random.randint(0,2)\n",
    "    }\n",
    "    )"
   ]
  },
  {
   "cell_type": "code",
   "execution_count": 8,
   "metadata": {},
   "outputs": [],
   "source": [
    "fake_df=pd.DataFrame(fake_list)"
   ]
  },
  {
   "cell_type": "code",
   "execution_count": 18,
   "metadata": {},
   "outputs": [],
   "source": [
    "fake_df['date_only']=fake_df['date'].apply(lambda x: x.date())"
   ]
  },
  {
   "cell_type": "code",
   "execution_count": 35,
   "metadata": {},
   "outputs": [],
   "source": [
    "dailypos = fake_df[fake_df['sentiment']==0].groupby('date_only').count()['sentiment']"
   ]
  },
  {
   "cell_type": "code",
   "execution_count": 119,
   "metadata": {},
   "outputs": [],
   "source": [
    "output_file(\"line.html\")\n",
    "\n",
    "pnet = figure(plot_width=1000, plot_height=400, x_axis_type='datetime')\n",
    "pnet.toolbar.logo = None\n",
    "pnet.toolbar_location = None\n",
    "pnet.background_fill_color = \"lavender\"\n",
    "\n",
    "pvol = figure(plot_width=1000, plot_height=100, x_axis_type='datetime')\n",
    "pvol.toolbar.logo = None\n",
    "pvol.toolbar_location = None\n",
    "pvol.background_fill_color = \"bisque\"\n",
    "\n",
    "# add a line renderer\n",
    "pnet.line(dailycounts['date'], \n",
    "       dailycounts['sentiment_net'], \n",
    "       line_width=2,\n",
    "      color='purple')\n",
    "\n",
    "pvol.line(dailycounts['date'], \n",
    "       dailycounts['volume'], \n",
    "       line_width=2,color='orange')\n",
    "\n",
    "\n",
    "\n",
    "# pubmenu = [(x,x) for x in publist]\n",
    "# polmenu = [(x,x) for x in pollist]\n",
    "# pubdropdown = Dropdown(label=\"Publications\", button_type=\"warning\", menu=pubmenu)\n",
    "# poldropdown = Dropdown(label=\"Politicians\", button_type=\"warning\", menu=polmenu)\n",
    "polmenu = AutocompleteInput(completions=pollist,title='Politician (case sensitive)')\n",
    "pubmenu = AutocompleteInput(completions=publist,title='Publication (case sensitive)')\n",
    "date_slider = DateRangeSlider(start=min(dailycounts['date']), end=max(dailycounts['date']), \n",
    "                          value=(min(dailycounts['date']),max(dailycounts['date'])), step=1, title=\"Date Range\")\n",
    "show(column(pnet,pvol,date_slider,pubmenu,polmenu))"
   ]
  },
  {
   "cell_type": "code",
   "execution_count": 65,
   "metadata": {},
   "outputs": [],
   "source": [
    "dailycounts =pd.DataFrame(fake_df[fake_df['sentiment']==0]['date_only'].unique(),columns=['date']).sort_values(by='date')"
   ]
  },
  {
   "cell_type": "code",
   "execution_count": 78,
   "metadata": {},
   "outputs": [],
   "source": [
    "dailycounts['sentiment0']=fake_df[fake_df['sentiment']==0].groupby('date_only').count()['sentiment'].values"
   ]
  },
  {
   "cell_type": "code",
   "execution_count": 79,
   "metadata": {},
   "outputs": [],
   "source": [
    "dailycounts['sentiment1']=fake_df[fake_df['sentiment']==1].groupby('date_only')['sentiment'].count().values"
   ]
  },
  {
   "cell_type": "code",
   "execution_count": 114,
   "metadata": {},
   "outputs": [],
   "source": [
    "dailycounts['sentiment_net'] = (fake_df[fake_df['sentiment']==0].groupby('date_only').count()['sentiment'].values \n",
    "                                - fake_df[fake_df['sentiment']==1].groupby('date_only')['sentiment'].count().values)/ fake_df.groupby('date_only')['sentiment'].count().values"
   ]
  },
  {
   "cell_type": "code",
   "execution_count": 115,
   "metadata": {},
   "outputs": [],
   "source": [
    "dailycounts['volume'] = fake_df.groupby('date_only')['sentiment'].count().values"
   ]
  },
  {
   "cell_type": "code",
   "execution_count": 116,
   "metadata": {},
   "outputs": [
    {
     "data": {
      "text/html": [
       "<div>\n",
       "<style scoped>\n",
       "    .dataframe tbody tr th:only-of-type {\n",
       "        vertical-align: middle;\n",
       "    }\n",
       "\n",
       "    .dataframe tbody tr th {\n",
       "        vertical-align: top;\n",
       "    }\n",
       "\n",
       "    .dataframe thead th {\n",
       "        text-align: right;\n",
       "    }\n",
       "</style>\n",
       "<table border=\"1\" class=\"dataframe\">\n",
       "  <thead>\n",
       "    <tr style=\"text-align: right;\">\n",
       "      <th></th>\n",
       "      <th>date</th>\n",
       "      <th>sentiment0</th>\n",
       "      <th>sentiment1</th>\n",
       "      <th>sentiment_net</th>\n",
       "      <th>volume</th>\n",
       "    </tr>\n",
       "  </thead>\n",
       "  <tbody>\n",
       "    <tr>\n",
       "      <th>1</th>\n",
       "      <td>2016-07-01</td>\n",
       "      <td>181</td>\n",
       "      <td>155</td>\n",
       "      <td>0.077381</td>\n",
       "      <td>336</td>\n",
       "    </tr>\n",
       "    <tr>\n",
       "      <th>27</th>\n",
       "      <td>2016-07-02</td>\n",
       "      <td>195</td>\n",
       "      <td>166</td>\n",
       "      <td>0.080332</td>\n",
       "      <td>361</td>\n",
       "    </tr>\n",
       "    <tr>\n",
       "      <th>23</th>\n",
       "      <td>2016-07-03</td>\n",
       "      <td>170</td>\n",
       "      <td>153</td>\n",
       "      <td>0.052632</td>\n",
       "      <td>323</td>\n",
       "    </tr>\n",
       "    <tr>\n",
       "      <th>9</th>\n",
       "      <td>2016-07-04</td>\n",
       "      <td>185</td>\n",
       "      <td>162</td>\n",
       "      <td>0.066282</td>\n",
       "      <td>347</td>\n",
       "    </tr>\n",
       "    <tr>\n",
       "      <th>2</th>\n",
       "      <td>2016-07-05</td>\n",
       "      <td>188</td>\n",
       "      <td>180</td>\n",
       "      <td>0.021739</td>\n",
       "      <td>368</td>\n",
       "    </tr>\n",
       "  </tbody>\n",
       "</table>\n",
       "</div>"
      ],
      "text/plain": [
       "          date  sentiment0  sentiment1  sentiment_net  volume\n",
       "1   2016-07-01         181         155       0.077381     336\n",
       "27  2016-07-02         195         166       0.080332     361\n",
       "23  2016-07-03         170         153       0.052632     323\n",
       "9   2016-07-04         185         162       0.066282     347\n",
       "2   2016-07-05         188         180       0.021739     368"
      ]
     },
     "execution_count": 116,
     "metadata": {},
     "output_type": "execute_result"
    }
   ],
   "source": [
    "dailycounts.head()"
   ]
  },
  {
   "cell_type": "code",
   "execution_count": 70,
   "metadata": {},
   "outputs": [
    {
     "data": {
      "text/plain": [
       "pandas.core.series.Series"
      ]
     },
     "execution_count": 70,
     "metadata": {},
     "output_type": "execute_result"
    }
   ],
   "source": [
    "type(fake_df[fake_df['sentiment']==0].groupby('date_only').count()['sentiment'])\n"
   ]
  },
  {
   "cell_type": "code",
   "execution_count": 74,
   "metadata": {},
   "outputs": [
    {
     "data": {
      "text/plain": [
       "(29,)"
      ]
     },
     "execution_count": 74,
     "metadata": {},
     "output_type": "execute_result"
    }
   ],
   "source": [
    "fake_df[fake_df['sentiment']==1].groupby('date_only')['sentiment'].count().shape"
   ]
  },
  {
   "cell_type": "code",
   "execution_count": 75,
   "metadata": {},
   "outputs": [
    {
     "data": {
      "text/plain": [
       "(29, 3)"
      ]
     },
     "execution_count": 75,
     "metadata": {},
     "output_type": "execute_result"
    }
   ],
   "source": []
  },
  {
   "cell_type": "code",
   "execution_count": null,
   "metadata": {},
   "outputs": [],
   "source": []
  }
 ],
 "metadata": {
  "kernelspec": {
   "display_name": "Python [conda env:dsi]",
   "language": "python",
   "name": "conda-env-dsi-py"
  },
  "language_info": {
   "codemirror_mode": {
    "name": "ipython",
    "version": 3
   },
   "file_extension": ".py",
   "mimetype": "text/x-python",
   "name": "python",
   "nbconvert_exporter": "python",
   "pygments_lexer": "ipython3",
   "version": "3.7.3"
  }
 },
 "nbformat": 4,
 "nbformat_minor": 2
}
